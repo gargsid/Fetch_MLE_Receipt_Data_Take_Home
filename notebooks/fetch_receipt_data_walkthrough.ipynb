{
  "nbformat": 4,
  "nbformat_minor": 0,
  "metadata": {
    "colab": {
      "provenance": [],
      "gpuType": "T4"
    },
    "kernelspec": {
      "name": "python3",
      "display_name": "Python 3"
    },
    "language_info": {
      "name": "python"
    }
  },
  "cells": [
    {
      "cell_type": "code",
      "execution_count": null,
      "metadata": {
        "id": "MRoHk8mkXozf"
      },
      "outputs": [],
      "source": [
        "import pandas as pd\n",
        "import numpy as np\n",
        "from matplotlib import pyplot as plt"
      ]
    },
    {
      "cell_type": "code",
      "source": [
        "!wget https://raw.githubusercontent.com/gargsid/receipt_data_prediction_app/main/assets/data/ML_data_daily.csv"
      ],
      "metadata": {
        "colab": {
          "base_uri": "https://localhost:8080/"
        },
        "id": "Q_H4_E_PSiFS",
        "outputId": "d1a57aaf-5ddd-4322-994f-797a68194d93"
      },
      "execution_count": null,
      "outputs": [
        {
          "output_type": "stream",
          "name": "stdout",
          "text": [
            "--2023-11-18 17:55:03--  https://raw.githubusercontent.com/gargsid/receipt_data_prediction_app/main/assets/data/ML_data_daily.csv\n",
            "Resolving raw.githubusercontent.com (raw.githubusercontent.com)... 185.199.111.133, 185.199.110.133, 185.199.109.133, ...\n",
            "Connecting to raw.githubusercontent.com (raw.githubusercontent.com)|185.199.111.133|:443... connected.\n",
            "HTTP request sent, awaiting response... 200 OK\n",
            "Length: 6981 (6.8K) [text/plain]\n",
            "Saving to: ‘ML_data_daily.csv.1’\n",
            "\n",
            "\rML_data_daily.csv.1   0%[                    ]       0  --.-KB/s               \rML_data_daily.csv.1 100%[===================>]   6.82K  --.-KB/s    in 0s      \n",
            "\n",
            "2023-11-18 17:55:04 (73.4 MB/s) - ‘ML_data_daily.csv.1’ saved [6981/6981]\n",
            "\n"
          ]
        }
      ]
    },
    {
      "cell_type": "code",
      "source": [
        "def read_csv():\n",
        "  df = pd.read_csv('ML_data_daily.csv')\n",
        "  df['dates'] = pd.date_range(start='1/1/2021', end='31/12/2021', freq='D')\n",
        "  new_df = df.groupby(pd.Grouper(key = 'dates', freq = 'M'))['Receipt_Count'].sum().reset_index()\n",
        "  return new_df"
      ],
      "metadata": {
        "id": "0EpIpCzKXs0q"
      },
      "execution_count": null,
      "outputs": []
    },
    {
      "cell_type": "markdown",
      "source": [
        "### Data Analysis"
      ],
      "metadata": {
        "id": "UE0GElCrO9g4"
      }
    },
    {
      "cell_type": "code",
      "source": [
        "df = read_csv()\n",
        "plt.plot(df['dates'], df['Receipt_Count'])\n",
        "plt.xlabel('month')\n",
        "plt.ylabel('#receipts')\n",
        "plt.show()"
      ],
      "metadata": {
        "colab": {
          "base_uri": "https://localhost:8080/",
          "height": 521
        },
        "id": "zxbOnwPZO7_5",
        "outputId": "bf287111-7899-4b9e-8634-6f7626c0fc20"
      },
      "execution_count": null,
      "outputs": [
        {
          "output_type": "stream",
          "name": "stderr",
          "text": [
            "<ipython-input-25-357b6cde460f>:3: UserWarning: Parsing dates in DD/MM/YYYY format when dayfirst=False (the default) was specified. This may lead to inconsistently parsed dates! Specify a format to ensure consistent parsing.\n",
            "  df['dates'] = pd.date_range(start='1/1/2021', end='31/12/2021', freq='D')\n"
          ]
        },
        {
          "output_type": "display_data",
          "data": {
            "text/plain": [
              "<Figure size 640x480 with 1 Axes>"
            ],
            "image/png": "[encoded data removed]"
          },
          "metadata": {}
        }
      ]
    },
    {
      "cell_type": "markdown",
      "source": [
        "## Training MLP as a forecasting model.\n",
        "\n",
        "We can see that receipts increase over the months and that increase is almost linear.\n",
        "One trivial solution would be to fit a straight line and forecast the predictions on that line but that would be crude approximation. We can also use more sophisticated time series forecasting models like ARIMA that models non-linear trends in the model.\n",
        "\n",
        "However, in this project we will write a light-weight neural network with a single hidden layer and ReLU non-linearity. The model will take sequence of inputs at a time regress the number of receipts for the next month.\n",
        "\n",
        "We will see that the model is able to learn the non-linear increase in the data and continue to make very good predictions for the receipts over the months of year 2022.\n",
        "\n",
        "**Let's dive in!**\n",
        "\n",
        "First we will create an utility function that converts the given sequence of receipts into the training data where given the receipts over certain consecutive months we predict the receipts for the next month.\n",
        "\n",
        "For example, if `receipts = [10,20,30,40]` and given a parameter `seq_len=2`, the training data will be\n",
        "\n",
        "`Inputs: [[0,10],[10,20],[20,30]]`  \n",
        "\n",
        "`Labels: [20,30,40]`\n",
        "\n",
        "Note that we padded the first vector with 0 because our model expects inputs of same dimensions. The below function `split_sequence` takes care of creating the data in this format that is suitable for training the model."
      ],
      "metadata": {
        "id": "Y_DwvUZOByNf"
      }
    },
    {
      "cell_type": "code",
      "source": [
        "def split_sequence(sequence, n_steps, pad=False):\n",
        "  X, y = list(), list()\n",
        "  if pad:\n",
        "    for i in range(n_steps-1, 0, -1):\n",
        "      init = [0 for _ in range(n_steps)]\n",
        "      for j in range(i, n_steps):\n",
        "        init[j] = receipts[j-i]\n",
        "      X.append(init)\n",
        "      y.append(receipts[j-i+1])\n",
        "\n",
        "  for i in range(len(sequence)):\n",
        "    # find the end of this pattern\n",
        "    end_ix = i + n_steps\n",
        "    # check if we are beyond the sequence\n",
        "    if end_ix > len(sequence)-1:\n",
        "      break\n",
        "    # gather input and output parts of the pattern\n",
        "    seq_x, seq_y = sequence[i:end_ix], sequence[end_ix]\n",
        "    X.append(seq_x)\n",
        "    y.append(seq_y)\n",
        "  return X, y"
      ],
      "metadata": {
        "id": "V0OTlL1LXIYJ"
      },
      "execution_count": null,
      "outputs": []
    },
    {
      "cell_type": "markdown",
      "source": [
        "Next, we wrote a custom `Dataset` class that batches our training data nicely and allow seamless training."
      ],
      "metadata": {
        "id": "2bVTMtrnSY_X"
      }
    },
    {
      "cell_type": "code",
      "source": [
        "import torch\n",
        "import torch.nn as nn\n",
        "from torch.utils.data import Dataset, DataLoader\n",
        "\n",
        "class ReceiptData(Dataset):\n",
        "  def __init__(self, seq_receipts, labels, normalize_scale=1.):\n",
        "    super().__init__()\n",
        "    self.seq_receipts = np.array(seq_receipts) / normalize_scale\n",
        "    self.labels = np.array(labels) / normalize_scale\n",
        "\n",
        "  def __len__(self):\n",
        "    return len(self.labels)\n",
        "\n",
        "  def __getitem__(self, idx):\n",
        "    return self.seq_receipts[idx], self.labels[idx]"
      ],
      "metadata": {
        "id": "DVcjLyU7TX9U"
      },
      "execution_count": null,
      "outputs": []
    },
    {
      "cell_type": "markdown",
      "source": [
        "Now, we define our `Model` class that takes `seq_len` and `hidden` as inputs where the later is the size of the hidden layer in out single-layer MLP."
      ],
      "metadata": {
        "id": "u5OZJ2lKSmaM"
      }
    },
    {
      "cell_type": "code",
      "source": [
        "def get_model(seq_len, hidden):\n",
        "  model = nn.Sequential(\n",
        "      nn.Linear(seq_len, hidden),\n",
        "      nn.ReLU(),\n",
        "      nn.Linear(hidden, hidden),\n",
        "      nn.ReLU(),\n",
        "      nn.Linear(hidden, 1)\n",
        "  )\n",
        "  return model\n"
      ],
      "metadata": {
        "id": "MW4nOplGhLVm"
      },
      "execution_count": null,
      "outputs": []
    },
    {
      "cell_type": "markdown",
      "source": [
        "Here we load our training and validation data."
      ],
      "metadata": {
        "id": "YQtbqCD6S26R"
      }
    },
    {
      "cell_type": "code",
      "source": [
        "def dataset_pipeline(seq_len, receipts):\n",
        "  seq_receipts, labels = split_sequence(receipts, seq_len, pad)\n",
        "\n",
        "  train_receipts, test_receipts = seq_receipts[:-3], seq_receipts[-3:]\n",
        "  train_labels, test_labels = labels[:-3], labels[-3:]\n",
        "\n",
        "  train_dataset = ReceiptData(train_receipts, train_labels, normalize)\n",
        "  train_loader = DataLoader(train_dataset, batch_size=len(train_receipts))\n",
        "\n",
        "  test_dataset = ReceiptData(test_receipts, test_labels, normalize)\n",
        "  test_loader = DataLoader(test_dataset, batch_size=len(test_receipts))\n",
        "\n",
        "  return train_loader, test_loader"
      ],
      "metadata": {
        "id": "kBUBTyKkKfPR"
      },
      "execution_count": null,
      "outputs": []
    },
    {
      "cell_type": "markdown",
      "source": [
        "The below function takes the sequence of receipts, and `seq_len` parameter and executes complete training pipeline where it creates traning and test datasets, and train a model to predict next month's receipt given a context length of size `seq_len`.\n",
        "\n",
        "The trained model is saved as `model_seqlen_{seq_len}.pt`"
      ],
      "metadata": {
        "id": "-l52EoESS2JN"
      }
    },
    {
      "cell_type": "code",
      "source": [
        "def receipt_predictor_pipeline(seq_len, receipts):\n",
        "  train_loader, test_loader = dataset_pipeline(seq_len, receipts)\n",
        "\n",
        "  model = get_model(seq_len, hidden)\n",
        "\n",
        "  epochs = 10000\n",
        "  criterion = nn.MSELoss()\n",
        "  optimizer = torch.optim.Adam(model.parameters(), lr=5e-5,  weight_decay=1e-5)\n",
        "  scheduler = torch.optim.lr_scheduler.CosineAnnealingLR(optimizer=optimizer, T_max=epochs, eta_min=1e-6)\n",
        "  save_model_name = f'model_seqlen_{seq_len}.pt'\n",
        "\n",
        "  best_loss = 1e18\n",
        "  for epoch in range(epochs):\n",
        "    model.train()\n",
        "    optimizer.zero_grad()\n",
        "    train_loss = 0.\n",
        "    for inputs, labels in train_loader:\n",
        "      inputs = inputs.to(torch.float)\n",
        "      labels = labels.to(torch.float)\n",
        "      preds = model(inputs)\n",
        "      loss = criterion(labels, preds.view(-1))\n",
        "      train_loss += loss.item()\n",
        "      loss.backward()\n",
        "      optimizer.step()\n",
        "      scheduler.step()\n",
        "\n",
        "    model.eval()\n",
        "    eval_loss = 0.\n",
        "    for inputs, labels in test_loader:\n",
        "      inputs = inputs.to(torch.float)\n",
        "      labels = labels.to(torch.float)\n",
        "      preds = model(inputs)\n",
        "      loss = criterion(labels, preds.view(-1))\n",
        "\n",
        "      eval_loss = loss.item()\n",
        "      if eval_loss < best_loss:\n",
        "        best_loss = eval_loss\n",
        "        torch.save(model.state_dict(), save_model_name)\n",
        "    if (epoch+1)%1000 == 0:\n",
        "      print('epoch:', epoch+1, 'train:', train_loss, 'eval:', eval_loss)\n",
        "\n",
        "  print('Evaluating Best Model....')\n",
        "  model.load_state_dict(torch.load(save_model_name))\n",
        "  model.eval()\n",
        "  for inputs, labels in test_loader:\n",
        "    inputs = inputs.to(torch.float)\n",
        "    labels = labels.to(torch.float)\n",
        "    preds = model(inputs)\n",
        "  preds = preds.cpu().detach().numpy().squeeze()\n",
        "  l = labels.cpu().detach().numpy().squeeze()\n",
        "  error = ((preds - l)**2).mean()**0.5\n",
        "  print('test_labels:',[ll for ll in l])\n",
        "  print('preds:',[pred for pred in preds])\n",
        "  print('rmse error:', error)"
      ],
      "metadata": {
        "id": "nLcYPGS2KheF"
      },
      "execution_count": null,
      "outputs": []
    },
    {
      "cell_type": "markdown",
      "source": [
        "After training a bunch of models with different context length, we evaluate them against the evaluation data and choose the model that results in least Mean Square Error on the validation data. In our case, the `seq_len=2` gave the best results."
      ],
      "metadata": {
        "id": "cGlglM_5TdQy"
      }
    },
    {
      "cell_type": "code",
      "source": [
        "def get_best_model(receipts):\n",
        "  best_rmse = 1e8\n",
        "  best_seq_len = None\n",
        "\n",
        "  errors = []\n",
        "\n",
        "  for seq_len in sequence_lengths:\n",
        "    train_loader, test_loader = dataset_pipeline(seq_len, receipts)\n",
        "    model = get_model(seq_len, hidden)\n",
        "\n",
        "    save_model_name = f'model_seqlen_{seq_len}.pt'\n",
        "    model.load_state_dict(torch.load(save_model_name))\n",
        "\n",
        "    for inputs, labels in test_loader:\n",
        "      inputs = inputs.to(torch.float)\n",
        "      labels = labels.to(torch.float)\n",
        "      preds = model(inputs)\n",
        "\n",
        "    preds = preds.cpu().detach().numpy().squeeze()\n",
        "    l = labels.cpu().detach().numpy().squeeze()\n",
        "    error = ((preds - l)**2).mean()**0.5\n",
        "    print('seq_len:', seq_len, 'rmse error:', error)\n",
        "    errors.append(error)\n",
        "\n",
        "    if error < best_rmse:\n",
        "      best_rmse = error\n",
        "      best_seq_len = seq_len\n",
        "\n",
        "  plt.plot(sequence_lengths, errors)\n",
        "  plt.xlabel('sequence_lengths')\n",
        "  plt.ylabel('Validation RMSE values')\n",
        "  plt.show()\n",
        "\n",
        "  return best_seq_len\n"
      ],
      "metadata": {
        "id": "e33ECVo3Kidm"
      },
      "execution_count": null,
      "outputs": []
    },
    {
      "cell_type": "markdown",
      "source": [
        "Below function is the final prediction or forecasting pipeline that uses the model with best results on the validation data and given the month_id as the input, it predicts the number of receipts over that month. The function uses a GPT style method where the predictions are fed back to the model that serve as contextual information and get the predictions over the successive months."
      ],
      "metadata": {
        "id": "o1FtM5iqTwMD"
      }
    },
    {
      "cell_type": "code",
      "source": [
        "def prediction_pipeline(month_id, seq_len, receipts):\n",
        "  model = get_model(seq_len, hidden)\n",
        "  save_model_name = f'model_seqlen_{seq_len}.pt'\n",
        "  model.load_state_dict(torch.load(save_model_name))\n",
        "  x = receipts[-seq_len:]\n",
        "  for month in range(month_id):\n",
        "    x = torch.from_numpy(np.array(x)).unsqueeze(0).to(torch.float)\n",
        "    with torch.no_grad():\n",
        "      pred = model(x)\n",
        "    pred = pred.item()\n",
        "    x = list(x[0].tolist())\n",
        "    x = x[1:] + [pred]\n",
        "    # print('month:', month+1, 'pred_receipts:', pred)\n",
        "\n",
        "  return pred"
      ],
      "metadata": {
        "id": "4R3lVYb7KjMh"
      },
      "execution_count": null,
      "outputs": []
    },
    {
      "cell_type": "code",
      "source": [
        "df = read_csv()\n",
        "receipts = list(df['Receipt_Count'].values)\n",
        "print('num_receipts:', len(receipts))"
      ],
      "metadata": {
        "colab": {
          "base_uri": "https://localhost:8080/"
        },
        "id": "mpw9zIISK3HF",
        "outputId": "5d563216-8a7f-4385-fa0d-ff4cc8fff0dc"
      },
      "execution_count": null,
      "outputs": [
        {
          "output_type": "stream",
          "name": "stdout",
          "text": [
            "num_receipts: 12\n"
          ]
        },
        {
          "output_type": "stream",
          "name": "stderr",
          "text": [
            "<ipython-input-25-357b6cde460f>:3: UserWarning: Parsing dates in DD/MM/YYYY format when dayfirst=False (the default) was specified. This may lead to inconsistently parsed dates! Specify a format to ensure consistent parsing.\n",
            "  df['dates'] = pd.date_range(start='1/1/2021', end='31/12/2021', freq='D')\n"
          ]
        }
      ]
    },
    {
      "cell_type": "code",
      "source": [
        "# Hyperparameters\n",
        "sequence_lengths = [2, 3, 4, 5, 6, 7, 8, 9]\n",
        "hidden = 64\n",
        "pad = True\n",
        "normalize = 1e7"
      ],
      "metadata": {
        "id": "szgT8v9SLMK2"
      },
      "execution_count": null,
      "outputs": []
    },
    {
      "cell_type": "markdown",
      "source": [
        "## Training the models\n",
        "\n",
        "Below cell runs the training of multiple MLPs that uses different context length to make predictions."
      ],
      "metadata": {
        "id": "Olwgav_hgWPZ"
      }
    },
    {
      "cell_type": "code",
      "source": [
        "for seq_len in sequence_lengths:\n",
        "  receipt_predictor_pipeline(seq_len, receipts)"
      ],
      "metadata": {
        "id": "7Apa-5zxK32T",
        "colab": {
          "base_uri": "https://localhost:8080/"
        },
        "outputId": "10de4ef8-ca2a-45f1-fadc-29512bd4ce24"
      },
      "execution_count": null,
      "outputs": [
        {
          "output_type": "stream",
          "name": "stdout",
          "text": [
            "epoch: 1000 train: 0.5596768856048584 eval: 0.21991439163684845\n",
            "epoch: 2000 train: 0.5291222333908081 eval: 0.21100692451000214\n",
            "epoch: 3000 train: 0.4867796003818512 eval: 0.17690414190292358\n",
            "epoch: 4000 train: 0.4621063470840454 eval: 0.16200987994670868\n",
            "epoch: 5000 train: 0.4298803210258484 eval: 0.1473381370306015\n",
            "epoch: 6000 train: 0.3775922656059265 eval: 0.11566350609064102\n",
            "epoch: 7000 train: 0.34112250804901123 eval: 0.09289932996034622\n",
            "epoch: 8000 train: 0.317766010761261 eval: 0.0783451721072197\n",
            "epoch: 9000 train: 0.302124947309494 eval: 0.07160943001508713\n",
            "epoch: 10000 train: 0.2955324947834015 eval: 0.07012570649385452\n",
            "Evaluating Best Model....\n",
            "test_labels: [29.596518, 29.608517, 30.99487]\n",
            "preds: [29.50113, 30.034956, 30.855486]\n",
            "rmse error: 0.2648125874913323\n",
            "epoch: 1000 train: 5.165093898773193 eval: 0.8040429949760437\n",
            "epoch: 2000 train: 0.520712673664093 eval: 0.20651370286941528\n",
            "epoch: 3000 train: 0.19818055629730225 eval: 0.14466534554958344\n",
            "epoch: 4000 train: 0.1832895576953888 eval: 0.1347150206565857\n",
            "epoch: 5000 train: 0.17576658725738525 eval: 0.13059364259243011\n",
            "epoch: 6000 train: 0.16764694452285767 eval: 0.12358254194259644\n",
            "epoch: 7000 train: 0.16073381900787354 eval: 0.11836134642362595\n",
            "epoch: 8000 train: 0.15672077238559723 eval: 0.11446128040552139\n",
            "epoch: 9000 train: 0.1546642780303955 eval: 0.11221430450677872\n",
            "epoch: 10000 train: 0.15376485884189606 eval: 0.11106780171394348\n",
            "Evaluating Best Model....\n",
            "test_labels: [29.596518, 29.608517, 30.99487]\n",
            "preds: [29.559118, 30.098894, 30.692654]\n",
            "rmse error: 0.3332681505228367\n",
            "epoch: 1000 train: 3.607286214828491 eval: 0.8044162392616272\n",
            "epoch: 2000 train: 0.17811283469200134 eval: 0.14458850026130676\n",
            "epoch: 3000 train: 0.15957441926002502 eval: 0.13296405971050262\n",
            "epoch: 4000 train: 0.14688533544540405 eval: 0.11785227060317993\n",
            "epoch: 5000 train: 0.1368270218372345 eval: 0.10640370845794678\n",
            "epoch: 6000 train: 0.12586787343025208 eval: 0.09975527971982956\n",
            "epoch: 7000 train: 0.1186453104019165 eval: 0.09973141551017761\n",
            "epoch: 8000 train: 0.11433244496583939 eval: 0.10099753737449646\n",
            "epoch: 9000 train: 0.11219070851802826 eval: 0.10215557366609573\n",
            "epoch: 10000 train: 0.11129691451787949 eval: 0.1026279404759407\n",
            "Evaluating Best Model....\n",
            "test_labels: [29.596518, 29.608517, 30.99487]\n",
            "preds: [29.366583, 30.084173, 30.859642]\n",
            "rmse error: 0.3148573652404641\n",
            "epoch: 1000 train: 7.196545600891113 eval: 0.7954285144805908\n",
            "epoch: 2000 train: 1.0465912818908691 eval: 0.2785051167011261\n",
            "epoch: 3000 train: 0.1422124207019806 eval: 0.31650951504707336\n",
            "epoch: 4000 train: 0.11783140897750854 eval: 0.33179178833961487\n",
            "epoch: 5000 train: 0.10292624682188034 eval: 0.3028280735015869\n",
            "epoch: 6000 train: 0.08409960567951202 eval: 0.31868690252304077\n",
            "epoch: 7000 train: 0.07233184576034546 eval: 0.3376258909702301\n",
            "epoch: 8000 train: 0.06531062722206116 eval: 0.35233840346336365\n",
            "epoch: 9000 train: 0.06192012131214142 eval: 0.36037492752075195\n",
            "epoch: 10000 train: 0.060523323714733124 eval: 0.36399856209754944\n",
            "Evaluating Best Model....\n",
            "test_labels: [29.596518, 29.608517, 30.99487]\n",
            "preds: [29.386522, 30.07549, 30.73025]\n",
            "rmse error: 0.332759496112688\n",
            "epoch: 1000 train: 5.568088531494141 eval: 2.193513870239258\n",
            "epoch: 2000 train: 0.23782595992088318 eval: 0.1080455556511879\n",
            "epoch: 3000 train: 0.16802093386650085 eval: 0.10870476812124252\n",
            "epoch: 4000 train: 0.16491647064685822 eval: 0.10719868540763855\n",
            "epoch: 5000 train: 0.15748608112335205 eval: 0.10402527451515198\n",
            "epoch: 6000 train: 0.14796555042266846 eval: 0.10040176659822464\n",
            "epoch: 7000 train: 0.14029408991336823 eval: 0.09768468141555786\n",
            "epoch: 8000 train: 0.13399749994277954 eval: 0.0962488055229187\n",
            "epoch: 9000 train: 0.13038203120231628 eval: 0.09536256641149521\n",
            "epoch: 10000 train: 0.12873119115829468 eval: 0.09505409747362137\n",
            "Evaluating Best Model....\n",
            "test_labels: [29.596518, 29.608517, 30.99487]\n",
            "preds: [29.49785, 30.102682, 30.818247]\n",
            "rmse error: 0.30829106950854573\n",
            "epoch: 1000 train: 14.260297775268555 eval: 0.7029804587364197\n",
            "epoch: 2000 train: 1.0217281579971313 eval: 0.17090101540088654\n",
            "epoch: 3000 train: 0.04665885865688324 eval: 0.17895060777664185\n",
            "epoch: 4000 train: 0.03535185009241104 eval: 0.17101401090621948\n",
            "epoch: 5000 train: 0.02391575463116169 eval: 0.15729261934757233\n",
            "epoch: 6000 train: 0.014676598832011223 eval: 0.14523474872112274\n",
            "epoch: 7000 train: 0.009481100365519524 eval: 0.1351366490125656\n",
            "epoch: 8000 train: 0.006560290232300758 eval: 0.13034029304981232\n",
            "epoch: 9000 train: 0.005259213037788868 eval: 0.12818068265914917\n",
            "epoch: 10000 train: 0.0047348057851195335 eval: 0.12725181877613068\n",
            "Evaluating Best Model....\n",
            "test_labels: [29.596518, 29.608517, 30.99487]\n",
            "preds: [29.021366, 29.735462, 30.8084]\n",
            "rmse error: 0.35669101973234635\n",
            "epoch: 1000 train: 9.365814208984375 eval: 0.17077910900115967\n",
            "epoch: 2000 train: 0.4971371293067932 eval: 0.34237244725227356\n",
            "epoch: 3000 train: 0.0002542013244237751 eval: 0.5151049494743347\n",
            "epoch: 4000 train: 6.957634468562901e-11 eval: 0.4966066777706146\n",
            "epoch: 5000 train: 2.0463630789890885e-11 eval: 0.49206534028053284\n",
            "epoch: 6000 train: 8.185452315956354e-12 eval: 0.4922538995742798\n",
            "epoch: 7000 train: 2.7284841053187847e-12 eval: 0.47882282733917236\n",
            "epoch: 8000 train: 6.821210263296962e-12 eval: 0.468247652053833\n",
            "epoch: 9000 train: 4.547473508864641e-12 eval: 0.4601511061191559\n",
            "epoch: 10000 train: 6.366462912410498e-12 eval: 0.4569590985774994\n",
            "Evaluating Best Model....\n",
            "test_labels: [29.596518, 29.608517, 30.99487]\n",
            "preds: [29.28182, 30.1384, 30.760756]\n",
            "rmse error: 0.38062185070069177\n",
            "epoch: 1000 train: 12.946170806884766 eval: 20.728025436401367\n",
            "epoch: 2000 train: 0.1597132682800293 eval: 0.9977547526359558\n",
            "epoch: 3000 train: 9.094947017729282e-12 eval: 0.2657534182071686\n",
            "epoch: 4000 train: 7.912603905424476e-11 eval: 0.18076054751873016\n",
            "epoch: 5000 train: 4.092726157978177e-12 eval: 0.233351469039917\n",
            "epoch: 6000 train: 2.773958840407431e-11 eval: 0.25551116466522217\n",
            "epoch: 7000 train: 4.547473508864641e-12 eval: 0.25624871253967285\n",
            "epoch: 8000 train: 7.275957614183426e-12 eval: 0.2483001947402954\n",
            "epoch: 9000 train: 4.092726157978177e-12 eval: 0.2442004233598709\n",
            "epoch: 10000 train: 3.183231456205249e-12 eval: 0.2428654432296753\n",
            "Evaluating Best Model....\n",
            "test_labels: [29.596518, 29.608517, 30.99487]\n",
            "preds: [29.289856, 30.229858, 30.747448]\n",
            "rmse error: 0.4247839210082217\n"
          ]
        }
      ]
    },
    {
      "cell_type": "markdown",
      "source": [
        "After training, we evaluate the models on the validation data and choose the model with least root mean square error."
      ],
      "metadata": {
        "id": "lXaFQVhIgwHe"
      }
    },
    {
      "cell_type": "code",
      "source": [
        "best_seq_len = get_best_model(receipts)\n",
        "print('best_seq_len:', best_seq_len)"
      ],
      "metadata": {
        "colab": {
          "base_uri": "https://localhost:8080/",
          "height": 611
        },
        "id": "ywLKNdpFMJjp",
        "outputId": "523529a7-065e-43c5-a640-f53605f0a0c3"
      },
      "execution_count": null,
      "outputs": [
        {
          "output_type": "stream",
          "name": "stdout",
          "text": [
            "seq_len: 2 rmse error: 0.2648125874913323\n",
            "seq_len: 3 rmse error: 0.3332681505228367\n",
            "seq_len: 4 rmse error: 0.3148573652404641\n",
            "seq_len: 5 rmse error: 0.332759496112688\n",
            "seq_len: 6 rmse error: 0.30829106950854573\n",
            "seq_len: 7 rmse error: 0.35669101973234635\n",
            "seq_len: 8 rmse error: 0.38062185070069177\n",
            "seq_len: 9 rmse error: 0.4247839210082217\n"
          ]
        },
        {
          "output_type": "display_data",
          "data": {
            "text/plain": [
              "<Figure size 640x480 with 1 Axes>"
            ],
            "image/png": "[encoded data removed]"
          },
          "metadata": {}
        },
        {
          "output_type": "stream",
          "name": "stdout",
          "text": [
            "best_seq_len: 2\n"
          ]
        }
      ]
    },
    {
      "cell_type": "markdown",
      "source": [
        "## Making Predictions!\n",
        "\n",
        "Now that we have our best model, we can use it to predict the receipts for the year 2022 using the below cell."
      ],
      "metadata": {
        "id": "5yPpWITUg5as"
      }
    },
    {
      "cell_type": "code",
      "source": [
        "months = [i for i in range(1, 13)]\n",
        "for m in months:\n",
        "  receipt_pred = prediction_pipeline(m, best_seq_len, receipts)\n",
        "  print('month:', m, 'receipts:', receipt_pred)"
      ],
      "metadata": {
        "colab": {
          "base_uri": "https://localhost:8080/"
        },
        "id": "DYuTT5dlMQxA",
        "outputId": "98f8dcaf-f398-4011-bcdc-116995e8ba0b"
      },
      "execution_count": null,
      "outputs": [
        {
          "output_type": "stream",
          "name": "stdout",
          "text": [
            "month: 1 receipts: 311809568.0\n",
            "month: 2 receipts: 318207584.0\n",
            "month: 3 receipts: 322898336.0\n",
            "month: 4 receipts: 328325376.0\n",
            "month: 5 receipts: 333600128.0\n",
            "month: 6 receipts: 339048320.0\n",
            "month: 7 receipts: 344553152.0\n",
            "month: 8 receipts: 350159168.0\n",
            "month: 9 receipts: 355852096.0\n",
            "month: 10 receipts: 361639168.0\n",
            "month: 11 receipts: 367519744.0\n",
            "month: 12 receipts: 373496160.0\n"
          ]
        }
      ]
    },
    {
      "cell_type": "markdown",
      "source": [
        "## Concluding Remarks\n",
        "\n",
        "In this notebook, we showed how to model sequential receipt data for the year 2021 and forecast the number of receipts over the year 2022. We used a single-layer neural network for this task and saw that the model was able to replicate the increasing trend in its predictions.\n",
        "\n",
        "\n",
        "\n",
        "**What didn't work**: Given the nature of the problem of learning from sequential receipt data, I also implemented a light-weight Transformer network to see whether it replicates or outperforms the single layer MLP. However, we saw that the model just output the same prediction for every input that minimizes the mean square error.\n",
        "\n",
        "This might be because of very less amount of training data and the model is not able to learn the increasing trend. To see in more detail please carry on with the walkthrough."
      ],
      "metadata": {
        "id": "A3Vz0L1Ak4W2"
      }
    },
    {
      "cell_type": "code",
      "source": [
        "import torch\n",
        "import torch.nn as nn\n",
        "from typing import Any, Optional, Tuple, Union\n",
        "import torch.nn.functional as F\n",
        "import numpy as np\n",
        "import pandas as pd\n",
        "\n",
        "class QuickGELU(nn.Module):\n",
        "  def forward(self, x):\n",
        "    return x * torch.sigmoid(1.702 * x)\n",
        "class MHAttention(nn.Module):\n",
        "    def __init__(self, d_model, num_heads, attn_mask=None):\n",
        "      super().__init__()\n",
        "      self.d_model = d_model # d_model/n_heads = 64 (head_dim) from \"Attention is all you need\"\n",
        "      self.num_heads = num_heads\n",
        "      self.head_dim = d_model // num_heads\n",
        "\n",
        "      # D = 64 * num_heads\n",
        "      # d = 64\n",
        "      # h = num_heads\n",
        "      # L = seq_len\n",
        "\n",
        "      if self.head_dim * self.num_heads != self.d_model:\n",
        "        raise ValueError(\n",
        "            f\"embed_dim must be divisible by num_heads (got `embed_dim`: {self.d_model} and `num_heads`:\"\n",
        "            f\" {self.num_heads}).\"\n",
        "        )\n",
        "\n",
        "      self.scale = self.head_dim**-0.5 # sqrt(512/8=64)\n",
        "      self.dropout = 0.1\n",
        "\n",
        "      self.q_proj = nn.Linear(d_model, d_model)\n",
        "      self.k_proj = nn.Linear(d_model, d_model)\n",
        "      self.v_proj = nn.Linear(d_model, d_model)\n",
        "\n",
        "      self.out_proj = nn.Linear(d_model, d_model) # first d_model = d_v * n_heads\n",
        "\n",
        "    def _shape(self, tensor, seq_len, bsz):\n",
        "      # return N,h,L,d tensor\n",
        "      return tensor.view(bsz, seq_len, self.num_heads, self.head_dim).transpose(1,2).contiguous()\n",
        "\n",
        "    def forward(self, x, attn_mask=None, output_attentions=True): # NLD\n",
        "\n",
        "      # attn_mask : size()-> (bsz, 1, L, L)\n",
        "\n",
        "      bsz, ctx_len, embed_dim = x.size()\n",
        "\n",
        "      queries = self.q_proj(x) * self.scale # NLD\n",
        "\n",
        "      keys = self.k_proj(x) # NLD\n",
        "      keys = self._shape(keys, -1, bsz) # NhLd\n",
        "\n",
        "      values = self.v_proj(x)\n",
        "      values = self._shape(values, -1, bsz) # NhLd\n",
        "\n",
        "      proj_shape = (bsz * self.num_heads, -1, self.head_dim)\n",
        "\n",
        "      queries = self._shape(queries, ctx_len, bsz).view(*proj_shape) # N*h, L, d\n",
        "      keys = keys.view(*proj_shape) # N*h, L, d\n",
        "      values = values.view(*proj_shape) # N*h, L, d\n",
        "\n",
        "      src_len = keys.size(1)\n",
        "\n",
        "      # keys.transpose(1,2) # N*h, d, L\n",
        "      attn_weights = torch.bmm(queries, keys.transpose(1,2)) # N*h, L, L\n",
        "\n",
        "      if attn_mask is not None:\n",
        "        # adds -inf to values where we don't want to put attention to\n",
        "        attn_weights = attn_weights.view(bsz, self.num_heads, ctx_len, ctx_len) + attn_mask\n",
        "        attn_weights = attn_weights.view(bsz * self.num_heads, ctx_len, ctx_len) # N*h, L, L\n",
        "\n",
        "      attn_weights = nn.functional.softmax(attn_weights, dim=-1) # softmax(-inf) -> 0 -> attention is zero for that token\n",
        "\n",
        "      if output_attentions:\n",
        "        # From CLIP's repo: this operation is a bit akward, but it's required to\n",
        "        # make sure that attn_weights keeps its gradient.\n",
        "        # In order to do so, attn_weights have to reshaped\n",
        "        # twice and have to be reused in the following\n",
        "        attn_weights_reshaped = attn_weights.view(bsz, self.num_heads, ctx_len, ctx_len)\n",
        "        attn_weights = attn_weights_reshaped.view(bsz * self.num_heads, ctx_len, ctx_len)\n",
        "      else:\n",
        "        attn_weights_reshaped = None\n",
        "\n",
        "      # N*h, L, L\n",
        "      attn_probs = nn.functional.dropout(attn_weights, p=self.dropout, training=self.training)\n",
        "\n",
        "      # values: N*h, L, d\n",
        "      attn_outputs = torch.bmm(attn_probs, values) # N*h, L, d\n",
        "\n",
        "      attn_outputs = attn_outputs.contiguous().view(bsz, self.num_heads, ctx_len, self.head_dim)\n",
        "      attn_outputs = attn_outputs.transpose(1,2)\n",
        "      attn_outputs = attn_outputs.contiguous().view(bsz, ctx_len, self.d_model)\n",
        "\n",
        "      attn_outputs = self.out_proj(attn_outputs)\n",
        "      return attn_outputs, attn_weights_reshaped\n",
        "\n",
        "class ResidualAttentionBlock(nn.Module):\n",
        "  def __init__(self, d_model, n_heads, attn_mask=None):\n",
        "    super().__init__()\n",
        "\n",
        "    self.attn_block = MHAttention(d_model, n_heads, attn_mask)\n",
        "    self.ln_1 = nn.LayerNorm(d_model)\n",
        "    self.mlp = nn.Sequential(\n",
        "        nn.Linear(d_model, 4*d_model),\n",
        "        QuickGELU(),\n",
        "        nn.Linear(4*d_model, d_model)\n",
        "    )\n",
        "    self.ln_2 = nn.LayerNorm(d_model)\n",
        "    self.attn_mask = attn_mask\n",
        "\n",
        "  def attention(self, x):\n",
        "    self.attn_mask = self.attn_mask.to(dtype=x.dtype, device=x.device) if self.attn_mask is not None else None\n",
        "    return self.attn_block(x, attn_mask=self.attn_mask, output_attentions=False)[0]\n",
        "\n",
        "  def forward(self, x): # NLD\n",
        "    res = x\n",
        "    x = self.ln_1(x)\n",
        "    x = self.attention(x)\n",
        "    x += res\n",
        "    res = x\n",
        "    x = self.ln_2(x)\n",
        "    x = self.mlp(x)\n",
        "    x += res\n",
        "    return x\n",
        "\n",
        "class Transformer(nn.Module):\n",
        "  def __init__(self,\n",
        "               width,\n",
        "               layers,\n",
        "               heads,\n",
        "               attn_mask=None,\n",
        "               ):\n",
        "    super().__init__()\n",
        "\n",
        "    self.model = nn.Sequential(*[ResidualAttentionBlock(width, heads, attn_mask=attn_mask) for _ in range(layers)])\n",
        "\n",
        "  def forward(self, x): # x: NLD\n",
        "    return self.model(x)\n",
        "\n",
        "def build_causal_attn_mask(ctx_len):\n",
        "  mask = torch.empty(ctx_len, ctx_len)\n",
        "  mask.fill_(float('-inf'))\n",
        "  mask.triu_(1)\n",
        "  return mask\n"
      ],
      "metadata": {
        "id": "ddlz6Rux5voF"
      },
      "execution_count": null,
      "outputs": []
    },
    {
      "cell_type": "code",
      "source": [
        "import torch\n",
        "import torch.nn as nn\n",
        "# from transformers import Transformer\n",
        "\n",
        "def build_causal_attn_mask(ctx_len):\n",
        "  mask = torch.empty(ctx_len, ctx_len)\n",
        "  mask.fill_(float('-inf'))\n",
        "  mask.triu_(1)\n",
        "  return mask\n",
        "\n",
        "class ReceiptTransformer(nn.Module):\n",
        "  def __init__(self, d_model, layers, num_heads, attn_mask=None):\n",
        "    super().__init__()\n",
        "    self.d_model = d_model\n",
        "    self.num_heads = num_heads\n",
        "    self.layers = layers\n",
        "    self.attn_mask = attn_mask\n",
        "\n",
        "    self.month_embedding = nn.Embedding(12, d_model) # vocab_size=12\n",
        "    self.receipt_embedding = nn.Linear(1, d_model) # input_dim=1\n",
        "    self.cls_embed = nn.Parameter(torch.randn(d_model))\n",
        "    self.transformer = Transformer(d_model, layers, num_heads, attn_mask)\n",
        "    self.ln_post = nn.LayerNorm(self.d_model)\n",
        "    self.proj = nn.Parameter(torch.randn(d_model, 1))\n",
        "\n",
        "\n",
        "  def forward(self, inputs):\n",
        "    # months: torch.tensor -> [[m1, m2, m3], [m2,m3,m4]] bsz, seq\n",
        "    # receipts: torch.tensor -> [[r1, r2, r3], [r2,r3,r4]]  bsz, seq\n",
        "    bsz = months.shape[0]\n",
        "    seq = months.shape[1]\n",
        "    month_x = self.month_embedding(months) # bsz, seq, d_model\n",
        "    # print('month_x:', month_x.shape)\n",
        "    receipt_x = self.receipt_embedding(receipts.view(-1, 1)) # bsz * seq, d_model,\n",
        "    # print('receipt_x:', receipt_x.shape)\n",
        "    receipt_x = receipt_x.view(bsz, seq, -1)\n",
        "    x = month_x + receipt_x # bsz, seq, d_model\n",
        "    cls_tokens = torch.cat(bsz * [self.cls_embed]).view(bsz, 1, -1) # bsz, 1, d_model\n",
        "    x = torch.cat([cls_tokens, x], dim=1) # bsz, seq+1, d_model\n",
        "    # print('transformer input:', x.shape)\n",
        "    x = self.transformer(x)\n",
        "    x = self.ln_post(x[:, 0, :]) # # bsz, d_model\n",
        "    x = x @ self.proj\n",
        "    return x\n"
      ],
      "metadata": {
        "id": "KvgqAPwlIwGd"
      },
      "execution_count": null,
      "outputs": []
    },
    {
      "cell_type": "code",
      "source": [
        "ctx_len = 3\n",
        "d_model = 64\n",
        "layers = 2\n",
        "num_heads = 1\n",
        "mask = build_causal_attn_mask(ctx_len+1)\n",
        "\n",
        "model = ReceiptTransformer(d_model, layers, num_heads, mask)"
      ],
      "metadata": {
        "id": "vn-hqXLT1J73"
      },
      "execution_count": null,
      "outputs": []
    },
    {
      "cell_type": "code",
      "source": [
        "# data loaders\n",
        "train_loader, test_loader = dataset_pipeline(ctx_len, receipts)"
      ],
      "metadata": {
        "id": "Loh_ONRrhicl"
      },
      "execution_count": null,
      "outputs": []
    },
    {
      "cell_type": "code",
      "source": [
        "criterion = nn.MSELoss()\n",
        "epochs = 2000\n",
        "device = torch.device(\"cuda:0\" if torch.cuda.is_available() else torch.device('cpu'))\n",
        "print('device:', device)\n",
        "\n",
        "model.to(device).to(torch.double)\n",
        "\n",
        "optimizer = torch.optim.Adam(model.parameters(), lr=1e-4,  weight_decay=1e-4)\n",
        "scheduler = torch.optim.lr_scheduler.CosineAnnealingLR(optimizer=optimizer, T_max=epochs, eta_min=1e-6)\n",
        "\n",
        "x = []\n",
        "t = []\n",
        "e = []\n",
        "\n",
        "for epoch in range(epochs):\n",
        "  model.train()\n",
        "  x += [epoch]\n",
        "  optimizer.zero_grad()\n",
        "  train_loss = 0.\n",
        "  for inputs, labels in train_loader:\n",
        "    inputs = receipts.to(device)\n",
        "    labels = labels.to(device)\n",
        "    preds = model(months, inputs.to(torch.double))\n",
        "    loss = criterion(labels, preds.view(-1))\n",
        "    train_loss += loss.item()\n",
        "    # print('epoch:', epoch, 'train_loss:', loss.item())\n",
        "    loss.backward()\n",
        "    optimizer.step()\n",
        "  # t += [loss.item()]\n",
        "\n",
        "  model.eval()\n",
        "  for months, receipts, labels in test_loader:\n",
        "    months = months.to(device)\n",
        "    receipts = receipts.to(device)\n",
        "    labels = labels.to(device)\n",
        "    preds = model(months, receipts)\n",
        "    loss = criterion(labels, preds.view(-1))\n",
        "    print('epoch:', epoch, 'train:', train_loss, 'eval:', loss.item())\n",
        "  # e += [loss.item()]\n",
        "  # plt.plot(x, t)\n",
        "  # plt.plot(x, e)\n",
        "  # plt.show()\n"
      ],
      "metadata": {
        "id": "2eCAYZJPAofb",
        "colab": {
          "base_uri": "https://localhost:8080/",
          "height": 268
        },
        "outputId": "342937d4-114d-49cc-cddf-a02f12f221c1"
      },
      "execution_count": null,
      "outputs": [
        {
          "output_type": "stream",
          "name": "stdout",
          "text": [
            "device: cpu\n"
          ]
        },
        {
          "output_type": "error",
          "ename": "ValueError",
          "evalue": "ignored",
          "traceback": [
            "\u001b[0;31m---------------------------------------------------------------------------\u001b[0m",
            "\u001b[0;31mValueError\u001b[0m                                Traceback (most recent call last)",
            "\u001b[0;32m<ipython-input-43-d8cb5ba501b9>\u001b[0m in \u001b[0;36m<cell line: 15>\u001b[0;34m()\u001b[0m\n\u001b[1;32m     18\u001b[0m   \u001b[0moptimizer\u001b[0m\u001b[0;34m.\u001b[0m\u001b[0mzero_grad\u001b[0m\u001b[0;34m(\u001b[0m\u001b[0;34m)\u001b[0m\u001b[0;34m\u001b[0m\u001b[0;34m\u001b[0m\u001b[0m\n\u001b[1;32m     19\u001b[0m   \u001b[0mtrain_loss\u001b[0m \u001b[0;34m=\u001b[0m \u001b[0;36m0.\u001b[0m\u001b[0;34m\u001b[0m\u001b[0;34m\u001b[0m\u001b[0m\n\u001b[0;32m---> 20\u001b[0;31m   \u001b[0;32mfor\u001b[0m \u001b[0mmonths\u001b[0m\u001b[0;34m,\u001b[0m \u001b[0mreceipts\u001b[0m\u001b[0;34m,\u001b[0m \u001b[0mlabels\u001b[0m \u001b[0;32min\u001b[0m \u001b[0mtrain_loader\u001b[0m\u001b[0;34m:\u001b[0m\u001b[0;34m\u001b[0m\u001b[0;34m\u001b[0m\u001b[0m\n\u001b[0m\u001b[1;32m     21\u001b[0m     \u001b[0mmonths\u001b[0m \u001b[0;34m=\u001b[0m \u001b[0mmonths\u001b[0m\u001b[0;34m.\u001b[0m\u001b[0mto\u001b[0m\u001b[0;34m(\u001b[0m\u001b[0mdevice\u001b[0m\u001b[0;34m)\u001b[0m\u001b[0;34m\u001b[0m\u001b[0;34m\u001b[0m\u001b[0m\n\u001b[1;32m     22\u001b[0m     \u001b[0mreceipts\u001b[0m \u001b[0;34m=\u001b[0m \u001b[0mreceipts\u001b[0m\u001b[0;34m.\u001b[0m\u001b[0mto\u001b[0m\u001b[0;34m(\u001b[0m\u001b[0mdevice\u001b[0m\u001b[0;34m)\u001b[0m\u001b[0;34m\u001b[0m\u001b[0;34m\u001b[0m\u001b[0m\n",
            "\u001b[0;31mValueError\u001b[0m: not enough values to unpack (expected 3, got 2)"
          ]
        }
      ]
    },
    {
      "cell_type": "code",
      "source": [
        "for months, receipts, labels in test_loader:\n",
        "  months = months.to(device)\n",
        "  receipts = receipts.to(device)\n",
        "  labels = labels.to(device)\n",
        "  preds = model(months, receipts)\n",
        "\n",
        "print(labels)\n",
        "print(preds)"
      ],
      "metadata": {
        "id": "1dECz2kUCh1k"
      },
      "execution_count": null,
      "outputs": []
    },
    {
      "cell_type": "code",
      "source": [],
      "metadata": {
        "id": "lfcfW4yWGyh0"
      },
      "execution_count": null,
      "outputs": []
    }
  ]
}